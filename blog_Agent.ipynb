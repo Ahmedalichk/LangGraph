{
  "nbformat": 4,
  "nbformat_minor": 0,
  "metadata": {
    "colab": {
      "provenance": [],
      "authorship_tag": "ABX9TyPi60QhLPgu8codxAxYAqwC",
      "include_colab_link": true
    },
    "kernelspec": {
      "name": "python3",
      "display_name": "Python 3"
    },
    "language_info": {
      "name": "python"
    }
  },
  "cells": [
    {
      "cell_type": "markdown",
      "metadata": {
        "id": "view-in-github",
        "colab_type": "text"
      },
      "source": [
        "<a href=\"https://colab.research.google.com/github/Ahmedalichk/LangGraph/blob/main/blog_Agent.ipynb\" target=\"_parent\"><img src=\"https://colab.research.google.com/assets/colab-badge.svg\" alt=\"Open In Colab\"/></a>"
      ]
    },
    {
      "cell_type": "code",
      "execution_count": 12,
      "metadata": {
        "id": "tjmj5V9-Xule"
      },
      "outputs": [],
      "source": [
        "%%capture --no-stderr\n",
        "%pip install -U tavily-python langchain_community langgraph langsmith langchain_google_genai langchain wikipedia"
      ]
    },
    {
      "cell_type": "code",
      "source": [
        "import os\n",
        "from google.colab import userdata\n",
        "\n",
        "os.environ[\"LANGCHAIN_API_KEY\"] = userdata.get('LANGCHAIN_API_KEY')\n",
        "os.environ[\"LANGCHAIN_TRACING_V2\"] = \"true\"\n",
        "os.environ[\"LANGCHAIN_PROJECT\"] = \"quickstart\"\n",
        "os.environ[\"TAVILY_API_KEY\"] = userdata.get(\"TAVILY_API_KEY\")\n",
        "\n",
        "gemini_api_key = userdata.get('GEMINI_API_KEY')\n",
        "\n",
        "\n",
        "from langchain_google_genai import ChatGoogleGenerativeAI\n"
      ],
      "metadata": {
        "id": "BuGY73YjXzt-"
      },
      "execution_count": 17,
      "outputs": []
    },
    {
      "cell_type": "code",
      "source": [
        "from typing_extensions import TypedDict\n",
        "from langchain_community.document_loaders import WikipediaLoader\n",
        "from langchain_community.tools.tavily_search import TavilySearchResults\n",
        "from langchain_google_genai import ChatGoogleGenerativeAI\n",
        "from langchain_core.messages import HumanMessage, SystemMessage\n",
        "from langgraph.graph import StateGraph, START, END\n",
        "from IPython.display import Image, display\n",
        "\n",
        "\n",
        "# Set up the LLM\n",
        "os.environ[\"TAVILY_API_KEY\"] = userdata.get(\"TAVILY_API_KEY\")\n",
        "gemini_flash = ChatGoogleGenerativeAI(\n",
        "    model='gemini-1.5-flash',\n",
        "    temperature=0.5,\n",
        "    max_retries=2,\n",
        "    api_key=gemini_api_key\n",
        ")\n",
        "\n",
        "# Define State\n",
        "class State(TypedDict):\n",
        "    preferences: dict\n",
        "    research_context: str\n",
        "    generated_content: str\n",
        "\n",
        "# Node: Collect user preferences\n",
        "def preferences_collector(state: State):\n",
        "    preferences = state[\"preferences\"]\n",
        "    prompt = (\n",
        "        \"Please provide the topic, tone (e.g., formal, humorous), and content length (e.g., short, medium, long) \"\n",
        "        \"for your personalized content.\"\n",
        "    )\n",
        "    return {\"preferences\": preferences or {\"prompt\": prompt}}\n",
        "\n",
        "# Node: Research and gather context\n",
        "def research_node(state: State):\n",
        "    topic = state[\"preferences\"].get(\"topic\", \"\")\n",
        "\n",
        "    # Fetch Wikipedia content\n",
        "    wiki_loader = WikipediaLoader(query=topic, load_max_docs=2)\n",
        "    wiki_content = wiki_loader.load()\n",
        "\n",
        "    # Fetch web search results\n",
        "    tavily_search = TavilySearchResults(max_results=3)\n",
        "    web_content = tavily_search.invoke(topic)\n",
        "\n",
        "    # Combine and format content\n",
        "    combined_content = \"\\n\\n---\\n\\n\".join(\n",
        "        [\n",
        "            f\"Wikipedia:\\n{doc.page_content}\" for doc in wiki_content\n",
        "        ] +\n",
        "        [\n",
        "            f\"Web:\\n{doc['content']}\" for doc in web_content\n",
        "        ]\n",
        "    )\n",
        "\n",
        "    return {\"research_context\": combined_content}\n",
        "\n",
        "# Node: Generate personalized content\n",
        "def content_generator(state: State):\n",
        "    preferences = state[\"preferences\"]\n",
        "    context = state[\"research_context\"]\n",
        "    tone = preferences.get(\"tone\", \"neutral\")\n",
        "    length = preferences.get(\"length\", \"medium\")\n",
        "\n",
        "    prompt = (\n",
        "        f\"Generate a {length} article with a {tone} tone on the topic of {preferences.get('topic', 'general interest')}.\\n\\n\"\n",
        "        f\"Use the following context for accuracy:\\n\\n{context}\"\n",
        "    )\n",
        "\n",
        "    generated_content = gemini_flash.invoke([\n",
        "        SystemMessage(content=prompt),\n",
        "        HumanMessage(content=\"Please generate the personalized content.\")\n",
        "    ])\n",
        "\n",
        "    return {\"generated_content\": generated_content}\n",
        "\n",
        "# Build and compile the graph\n",
        "builder = StateGraph(State)\n",
        "\n",
        "# Add nodes\n",
        "builder.add_node(\"preferences_collector\", preferences_collector)\n",
        "builder.add_node(\"research_node\", research_node)\n",
        "builder.add_node(\"content_generator\", content_generator)\n",
        "\n",
        "# Define edges\n",
        "builder.add_edge(START, \"preferences_collector\")\n",
        "builder.add_edge(\"preferences_collector\", \"research_node\")\n",
        "builder.add_edge(\"research_node\", \"content_generator\")\n",
        "builder.add_edge(\"content_generator\", END)\n",
        "\n",
        "# Compile and visualize the graph\n",
        "graph = builder.compile()\n",
        "display(Image(graph.get_graph().draw_mermaid_png()))\n",
        "\n",
        "# run\n",
        "result = graph.invoke({\"preferences\": {\"topic\": \"Artificial Intelligence\", \"tone\": \"engaging\", \"length\": \"medium\"}})\n",
        "print(\"\\n\\n\\n\")\n",
        "\n",
        "print(result[\"generated_content\"].content)\n",
        "\n",
        "print(\"\\n\\n\\n\")\n",
        "\n",
        "# run\n",
        "result = graph.invoke({\"preferences\": {\"topic\": \"Quaid-e-Azam\", \"tone\": \"engaging\", \"length\": \"short\"}})\n",
        "print(\"\\n\\n\\n\")\n",
        "\n",
        "print(result[\"generated_content\"].content)\n"
      ],
      "metadata": {
        "colab": {
          "base_uri": "https://localhost:8080/",
          "height": 1000
        },
        "id": "r4H0QL-DYTDI",
        "outputId": "51f88a24-22e5-4523-e270-f2560d8e94ac"
      },
      "execution_count": 18,
      "outputs": [
        {
          "output_type": "display_data",
          "data": {
            "image/png": "[encoded data removed]",
            "text/plain": [
              "<IPython.core.display.Image object>"
            ]
          },
          "metadata": {}
        },
        {
          "output_type": "stream",
          "name": "stderr",
          "text": [
            "WARNING:langsmith.client:Failed to multipart ingest runs: langsmith.utils.LangSmithError: Failed to POST https://api.smith.langchain.com/runs/multipart in LangSmith API. HTTPError('403 Client Error: Forbidden for url: https://api.smith.langchain.com/runs/multipart', '{\"detail\":\"Forbidden\"}')\n",
            "WARNING:langsmith.client:Failed to multipart ingest runs: langsmith.utils.LangSmithError: Failed to POST https://api.smith.langchain.com/runs/multipart in LangSmith API. HTTPError('403 Client Error: Forbidden for url: https://api.smith.langchain.com/runs/multipart', '{\"detail\":\"Forbidden\"}')\n",
            "WARNING:langsmith.client:Failed to multipart ingest runs: langsmith.utils.LangSmithError: Failed to POST https://api.smith.langchain.com/runs/multipart in LangSmith API. HTTPError('403 Client Error: Forbidden for url: https://api.smith.langchain.com/runs/multipart', '{\"detail\":\"Forbidden\"}')\n",
            "WARNING:langsmith.client:Failed to multipart ingest runs: langsmith.utils.LangSmithError: Failed to POST https://api.smith.langchain.com/runs/multipart in LangSmith API. HTTPError('403 Client Error: Forbidden for url: https://api.smith.langchain.com/runs/multipart', '{\"detail\":\"Forbidden\"}')\n"
          ]
        },
        {
          "output_type": "stream",
          "name": "stdout",
          "text": [
            "\n",
            "\n",
            "\n",
            "\n",
            "## Decoding the Enigma:  Artificial Intelligence – Friend or Foe?\n",
            "\n",
            "Artificial intelligence (AI). The very term conjures images of futuristic robots, sentient computers, and perhaps, a touch of existential dread.  But AI isn't some far-off science fiction fantasy; it's woven into the fabric of our daily lives, from the recommendations on your Netflix queue to the voice assistant perched on your phone.  It's a powerful tool, capable of incredible feats, but understanding its complexities is key to harnessing its potential responsibly.\n",
            "\n",
            "At its core, AI is about creating machines that exhibit intelligence – the ability to perceive their environment, learn from experience, and make decisions to achieve specific goals.  Think of the sophisticated algorithms powering Google Search, effortlessly sifting through billions of web pages to deliver relevant results in milliseconds. Or consider the recommendation systems of Amazon and Netflix, subtly influencing our purchasing and viewing habits with uncanny accuracy. These are just glimpses of AI's already vast capabilities.  We're also seeing it revolutionize fields like healthcare (with AI-powered diagnostics), transportation (autonomous vehicles), and even art (generative AI tools creating stunning visuals and text).\n",
            "\n",
            "The journey of AI hasn't been without its bumps. The field has experienced periods of intense optimism followed by \"AI winters\"—periods of reduced funding and interest—as researchers grapple with the inherent complexities of replicating human intelligence.  However, recent breakthroughs, particularly in deep learning and transformer architectures, have propelled AI into a new era of rapid advancement, sparking what's being called the \"AI boom.\" Billions are being invested, and the pace of innovation is breathtaking.\n",
            "\n",
            "But this rapid progress raises crucial questions.  One of the most significant is the pursuit of Artificial General Intelligence (AGI).  AGI represents a hypothetical leap forward – AI that matches or surpasses human cognitive abilities across a wide range of tasks.  While some experts believe AGI is decades or even centuries away, others, including prominent figures like Geoffrey Hinton, express concerns about its potentially rapid arrival.  The possibility of Artificial Superintelligence (ASI) – AGI that vastly exceeds human capabilities – adds another layer of complexity and concern.\n",
            "\n",
            "The debate surrounding AGI and ASI isn't just theoretical; it touches upon fundamental ethical and societal considerations.  Will AGI lead to widespread job displacement? How do we ensure AI systems are fair, unbiased, and accountable? What safeguards are needed to prevent misuse or unintended consequences? These are critical questions demanding careful consideration and proactive solutions.\n",
            "\n",
            "The path forward requires a multi-faceted approach.  We need continued research to push the boundaries of AI while simultaneously focusing on ethical frameworks and robust regulatory policies.  Open dialogue between researchers, policymakers, and the public is essential to navigate the challenges and opportunities presented by this transformative technology.  AI is a powerful tool, and like any powerful tool, its responsible use hinges on our understanding of its capabilities and limitations.  The future of AI is not predetermined; it's a future we are actively shaping, and it's a future that demands our careful attention.\n",
            "\n",
            "\n",
            "\n",
            "\n",
            "\n"
          ]
        },
        {
          "output_type": "stream",
          "name": "stderr",
          "text": [
            "WARNING:langsmith.client:Failed to multipart ingest runs: langsmith.utils.LangSmithError: Failed to POST https://api.smith.langchain.com/runs/multipart in LangSmith API. HTTPError('403 Client Error: Forbidden for url: https://api.smith.langchain.com/runs/multipart', '{\"detail\":\"Forbidden\"}')\n",
            "WARNING:langsmith.client:Failed to multipart ingest runs: langsmith.utils.LangSmithError: Failed to POST https://api.smith.langchain.com/runs/multipart in LangSmith API. HTTPError('403 Client Error: Forbidden for url: https://api.smith.langchain.com/runs/multipart', '{\"detail\":\"Forbidden\"}')\n"
          ]
        },
        {
          "output_type": "stream",
          "name": "stdout",
          "text": [
            "\n",
            "\n",
            "\n",
            "\n",
            "## More Than a Trophy: The Enduring Legacy of Quaid-e-Azam\n",
            "\n",
            "The name \"Quaid-e-Azam\" – Great Leader – resonates across Pakistan, a testament to the enduring impact of Muhammad Ali Jinnah.  His legacy isn't just etched in history books; it's actively played out on the cricket field, too.  The Quaid-e-Azam Trophy, a fiercely contested domestic cricket competition, bears his name, a fitting tribute to a man who championed unity and determination.\n",
            "\n",
            "Since its inception in 1953-54, the Trophy has witnessed countless thrilling matches and dramatic shifts in the cricketing landscape. Initially designed to help selectors choose Pakistan's Test team, the competition has evolved, reflecting the nation's own dynamic growth.  From regional rivalries to departmental clashes, the tournament has seen a variety of formats and team structures, showcasing the depth and diversity of Pakistani cricket talent.  The recent restructuring, with its focus on regional teams, highlights the ongoing effort to adapt and improve.\n",
            "\n",
            "The trophy's history is a microcosm of Pakistan's own journey.  Just as Jinnah’s leadership forged a new nation, the Quaid-e-Azam Trophy has shaped generations of cricketers, fostering competition, camaraderie, and a shared national pride.  The fierce battles on the field, the individual triumphs, and the collective celebrations all mirror the spirit of resilience and unity that Jinnah himself embodied.\n",
            "\n",
            "So, the next time you hear about the Quaid-e-Azam Trophy, remember it's more than just a cricket competition. It's a living testament to the enduring legacy of a Great Leader, a reminder of his vision, and a celebration of the spirit of Pakistan.  The scores may change, the teams may evolve, but the spirit of the Quaid-e-Azam continues to inspire, both on and off the field.\n",
            "\n"
          ]
        },
        {
          "output_type": "stream",
          "name": "stderr",
          "text": [
            "WARNING:langsmith.client:Failed to multipart ingest runs: langsmith.utils.LangSmithError: Failed to POST https://api.smith.langchain.com/runs/multipart in LangSmith API. HTTPError('403 Client Error: Forbidden for url: https://api.smith.langchain.com/runs/multipart', '{\"detail\":\"Forbidden\"}')\n"
          ]
        }
      ]
    }
  ]
}